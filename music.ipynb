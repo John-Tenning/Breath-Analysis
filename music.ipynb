{
  "nbformat": 4,
  "nbformat_minor": 0,
  "metadata": {
    "colab": {
      "name": "music.ipynb",
      "provenance": [],
      "collapsed_sections": []
    },
    "kernelspec": {
      "name": "python3",
      "display_name": "Python 3"
    },
    "language_info": {
      "name": "python"
    },
    "accelerator": "GPU"
  },
  "cells": [
    {
      "cell_type": "code",
      "metadata": {
        "id": "h01iJ2cDuH_w"
      },
      "source": [
        "import os\n",
        "import librosa, librosa.display\n",
        "import matplotlib.pyplot as plt\n",
        "import math"
      ],
      "execution_count": 1,
      "outputs": []
    },
    {
      "cell_type": "code",
      "metadata": {
        "id": "MswplmCGue5G",
        "colab": {
          "base_uri": "https://localhost:8080/",
          "height": 343
        },
        "outputId": "7d251328-5afe-4f90-a38f-1170296215c7"
      },
      "source": [
        "for root, folders, files in os.walk('/content/drive/MyDrive/Python Project/sound'):\n",
        "        # going into sound folder in drive\n",
        "    for folder in folders:\n",
        "        os.makedirs(f'/content/img_data/{folder}',0o666)     #creating folder\n",
        "        print(f'Processing {folder}')   #prefix f is for formatting\n",
        "        for _root, _folders, _files in os.walk(f'/content/drive/MyDrive/Python Project/sound/{folder}'):\n",
        "                #going into every folders of sound\n",
        "            for file in _files:\n",
        "                  #going into every files of the folders in sound\n",
        "                signal, sr = librosa.load(f'/content/drive/MyDrive/Python Project/sound/{folder}/{file}', sr=22050)\n",
        "                size = signal.shape[0]\n",
        "                start = 0\n",
        "                end = start + (size//5) #dividing the sound into 5 parts for more accuracy\n",
        "                for i in range(5):\n",
        "                    part_of_signal = signal[start:end]\n",
        "                    mfcc = librosa.feature.mfcc(part_of_signal,\n",
        "                                n_fft=2048,\n",
        "                                hop_length=512,\n",
        "                                n_mfcc=13)\n",
        "                    librosa.display.specshow(mfcc, sr=sr, hop_length=512)\n",
        "                    plt.savefig(f'/content/img_data/{folder}/{file[:-4] +\"_\"+ str(i)}.png')\n",
        "                    start = end\n",
        "                    end = start + (size//5)"
      ],
      "execution_count": 3,
      "outputs": [
        {
          "output_type": "stream",
          "text": [
            "Processing normal\n",
            "Processing wheezes\n",
            "Processing pleuralrub\n",
            "Processing crackle\n",
            "Processing stridor\n"
          ],
          "name": "stdout"
        },
        {
          "output_type": "display_data",
          "data": {
            "image/png": "[encoded data removed]",
            "text/plain": [
              "<Figure size 432x288 with 1 Axes>"
            ]
          },
          "metadata": {
            "tags": []
          }
        }
      ]
    },
    {
      "cell_type": "code",
      "metadata": {
        "colab": {
          "base_uri": "https://localhost:8080/"
        },
        "id": "NtlZdFar5Kk_",
        "outputId": "06f99ab5-80fd-4fd5-89fc-425a4c563357"
      },
      "source": [
        "from google.colab import drive\n",
        "drive.mount('/content/drive')"
      ],
      "execution_count": 2,
      "outputs": [
        {
          "output_type": "stream",
          "text": [
            "Mounted at /content/drive\n"
          ],
          "name": "stdout"
        }
      ]
    },
    {
      "cell_type": "code",
      "metadata": {
        "id": "IJDieOERFvw5"
      },
      "source": [
        "import tensorflow as tf\n",
        "from tensorflow.keras import Sequential\n",
        "from tensorflow.keras.layers import *\n",
        "from tensorflow.keras.preprocessing.image import ImageDataGenerator"
      ],
      "execution_count": null,
      "outputs": []
    },
    {
      "cell_type": "code",
      "metadata": {
        "id": "3pqU4v2PGIMF"
      },
      "source": [
        "training_set = ImageDataGenerator(rescale=1./255)\n",
        "test_set = ImageDataGenerator(rescale=1./255)"
      ],
      "execution_count": null,
      "outputs": []
    },
    {
      "cell_type": "code",
      "metadata": {
        "id": "w4QVRsIwGKlG"
      },
      "source": [
        "! pip install split-folders"
      ],
      "execution_count": null,
      "outputs": []
    },
    {
      "cell_type": "code",
      "metadata": {
        "id": "JtpNGMC6GR3m"
      },
      "source": [
        "import splitfolders\n",
        "splitfolders.ratio('img_data', output=\"out\", seed=1337, ratio=(.9, .1))"
      ],
      "execution_count": null,
      "outputs": []
    },
    {
      "cell_type": "code",
      "metadata": {
        "id": "5JyTzI5aGUw9"
      },
      "source": [
        "training_data = training_set.flow_from_directory(\n",
        "        '/content/out/train',\n",
        "        batch_size=1,\n",
        "        target_size=(128, 128))\n",
        "\n",
        "val_data = test_set.flow_from_directory(\n",
        "        '/content/out/val',\n",
        "        batch_size=1,\n",
        "        target_size=(128, 128))"
      ],
      "execution_count": null,
      "outputs": []
    },
    {
      "cell_type": "code",
      "metadata": {
        "id": "oGUdAF3VTsEB"
      },
      "source": [
        "model = Sequential()\n",
        "model.add(Conv2D(32, (3,3),activation='relu'))\n",
        "model.add(MaxPool2D())\n",
        "model.add(Conv2D(64, (3,3),activation='relu'))\n",
        "model.add(MaxPool2D())\n",
        "model.add(Conv2D(64, (3,3),activation='relu'))\n",
        "model.add(MaxPool2D())\n",
        "model.add(Flatten())\n",
        "model.add(Dense(128,activation='relu'))\n",
        "model.add(Dropout(0.15))\n",
        "model.add(Dense(5, activation='softmax'))\n",
        "model.compile(optimizer=tf.keras.optimizers.Adam(3e-4),\n",
        "              loss='categorical_crossentropy', \n",
        "              metrics=['accuracy'])"
      ],
      "execution_count": null,
      "outputs": []
    },
    {
      "cell_type": "code",
      "metadata": {
        "id": "m6vYSjIe_hqY"
      },
      "source": [
        "log_dir = \"logs/fit/\" + \"MODEL_14\"\n",
        "tensorboard_callback = tf.keras.callbacks.TensorBoard(log_dir=log_dir, histogram_freq=1)\n",
        "\n",
        "model.fit(training_data,\n",
        "          validation_data=val_data,epochs=50,\n",
        "          callbacks=[tensorboard_callback])"
      ],
      "execution_count": null,
      "outputs": []
    },
    {
      "cell_type": "code",
      "metadata": {
        "id": "kgwb0cDWpT6-"
      },
      "source": [
        "model.evaluate(val_data)"
      ],
      "execution_count": null,
      "outputs": []
    },
    {
      "cell_type": "code",
      "metadata": {
        "id": "1fk5aCfkpU4x"
      },
      "source": [
        "things = model.predict(val_data)"
      ],
      "execution_count": null,
      "outputs": []
    },
    {
      "cell_type": "code",
      "metadata": {
        "id": "ozFFIsxCpXq3"
      },
      "source": [
        "import numpy as np"
      ],
      "execution_count": null,
      "outputs": []
    },
    {
      "cell_type": "code",
      "metadata": {
        "id": "l8ftJ6ufpbh7"
      },
      "source": [
        "pred = np.argmax(things,axis=1)\n",
        "val_data.class_indices\n",
        "classes = { j:i for i,j in val_data.class_indices.items()}\n"
      ],
      "execution_count": null,
      "outputs": []
    },
    {
      "cell_type": "code",
      "metadata": {
        "id": "tbcBHNSQpkSa"
      },
      "source": [
        "import pandas as pd"
      ],
      "execution_count": null,
      "outputs": []
    },
    {
      "cell_type": "code",
      "metadata": {
        "id": "eDbx-PxxplB5"
      },
      "source": [
        "things = pd.DataFrame({'FILES':val_data.filenames,'PRED':[classes[x] for x in pred]})\n",
        "things\n",
        "# ! rm -r img_data/.ipynb_checkpoints"
      ],
      "execution_count": null,
      "outputs": []
    },
    {
      "cell_type": "code",
      "metadata": {
        "id": "Of59W6C5qNaY"
      },
      "source": [
        "from tensorflow.keras.models import load_model\n",
        "import librosa\n",
        "import numpy as np\n",
        "import matplotlib.pyplot as plt\n",
        "from tensorflow.keras.preprocessing import image\n",
        "from collections import Counter"
      ],
      "execution_count": null,
      "outputs": []
    },
    {
      "cell_type": "code",
      "metadata": {
        "id": "K5Wwc8mzqY0K"
      },
      "source": [
        "model.save('MODEL.h5')"
      ],
      "execution_count": null,
      "outputs": []
    },
    {
      "cell_type": "code",
      "metadata": {
        "id": "Py-JuqUiqjjA"
      },
      "source": [
        "from tensorflow.keras.models import load_model\n",
        "import librosa\n",
        "import numpy as np\n",
        "from tensorflow.keras.preprocessing import image\n",
        "import matplotlib.pyplot as plt\n",
        "import librosa.display\n",
        "import math\n",
        "class find_ans :\n",
        "  def __init__(self,model_name):\n",
        "    self.model = load_model(model_name)\n",
        "    self.dic = {0:\"crackle\",1:\"normal\",2:\"pleuralrub\",3:\"stridor\",4:\"wheezes\"}  \n",
        "  def audio_to_spec(self,aud) :\n",
        "    signal, sr = librosa.load(aud, sr=22050)\n",
        "    size = signal.shape[0]\n",
        "    start = 0\n",
        "    end = start + math.floor(size/5)\n",
        "    for i in range(5):\n",
        "        part_of_signal = signal[start:end]\n",
        "        mfcc = librosa.feature.mfcc(part_of_signal,\n",
        "                    n_fft=2048,\n",
        "                    hop_length=512,\n",
        "                    n_mfcc=13)\n",
        "        librosa.display.specshow(mfcc, sr=sr, hop_length=512)\n",
        "        plt.savefig(f\"test_img_{i}.png\")\n",
        "        plt.axis('off')\n",
        "        plt.clf()\n",
        "        start = end\n",
        "        end = start + math.floor(size/5)\n",
        "  def predict(self,aud):\n",
        "    self.audio_to_spec(aud)\n",
        "    results = []\n",
        "    for i in range(5):\n",
        "      matrix = image.load_img(f\"test_img_{i}.png\",target_size=(128,128))\n",
        "      matrix = image.img_to_array(matrix) \n",
        "      pred = self._predict(matrix)\n",
        "      results.append(pred)\n",
        "      from collections import Counter\n",
        "      return Counter(results).most_common()[0][0]\n",
        "    return results\n",
        "  def _predict(self,specgram):\n",
        "    specgram = specgram/255.0\n",
        "    specgram = specgram.reshape(1,specgram.shape[0],specgram.shape[1],specgram.shape[2])\n",
        "    prediction = self.model.predict(specgram)\n",
        "    prediction = np.argmax(prediction)\n",
        "    return self.dic[prediction]"
      ],
      "execution_count": null,
      "outputs": []
    },
    {
      "cell_type": "code",
      "metadata": {
        "id": "lGo70wRRtPFu"
      },
      "source": [
        "obj = find_ans(\"/content/drive/MyDrive/Python Project/real.h5\")\n",
        "obj.predict('/content/drive/MyDrive/Python Project/sound/stridor/ab s1.wav')"
      ],
      "execution_count": null,
      "outputs": []
    }
  ]
}