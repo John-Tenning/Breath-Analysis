{
  "nbformat": 4,
  "nbformat_minor": 0,
  "metadata": {
    "colab": {
      "name": "music.ipynb",
      "provenance": []
    },
    "kernelspec": {
      "name": "python3",
      "display_name": "Python 3"
    },
    "language_info": {
      "name": "python"
    },
    "accelerator": "GPU"
  },
  "cells": [
    {
      "cell_type": "code",
      "metadata": {
        "id": "h01iJ2cDuH_w"
      },
      "source": [
        "import os\n",
        "import librosa, librosa.display\n",
        "import matplotlib.pyplot as plt\n",
        "import math"
      ],
      "execution_count": 1,
      "outputs": []
    },
    {
      "cell_type": "code",
      "metadata": {
        "id": "MswplmCGue5G"
      },
      "source": [
        "for root, folders, files in os.walk('/content/drive/MyDrive/Python Project/sound'):\n",
        "        # going into sound folder in drive\n",
        "    for folder in folders:\n",
        "        os.makedirs(f'/content/img_data/{folder}',0o666)     #creating folder\n",
        "        print(f'Processing {folder}')   #prefix f is for formatting\n",
        "        for _root, _folders, _files in os.walk(f'/content/drive/MyDrive/Python Project/sound/{folder}'):\n",
        "                #going into every folders of sound\n",
        "            for file in _files:\n",
        "                  #going into every files of the folders in sound\n",
        "                signal, sr = librosa.load(f'/content/drive/MyDrive/Python Project/sound/{folder}/{file}', sr=22050)\n",
        "                size = signal.shape[0]\n",
        "                start = 0\n",
        "                end = start + (size//5) #dividing the sound into 5 parts for more accuracy\n",
        "                for i in range(5):\n",
        "                    part_of_signal = signal[start:end]\n",
        "                    mfcc = librosa.feature.mfcc(part_of_signal,\n",
        "                                n_fft=2048,\n",
        "                                hop_length=512,\n",
        "                                n_mfcc=13)\n",
        "                    librosa.display.specshow(mfcc, sr=sr, hop_length=512)\n",
        "                    plt.savefig(f'/content/img_data/{folder}/{file[:-4] +\"_\"+ str(i)}.png')\n",
        "                    start = end\n",
        "                    end = start + (size//5)"
      ],
      "execution_count": null,
      "outputs": []
    },
    {
      "cell_type": "code",
      "metadata": {
        "id": "IJDieOERFvw5"
      },
      "source": [
        "import tensorflow as tf\n",
        "from tensorflow.keras import Sequential\n",
        "from tensorflow.keras.layers import *\n",
        "from tensorflow.keras.preprocessing.image import ImageDataGenerator"
      ],
      "execution_count": 3,
      "outputs": []
    },
    {
      "cell_type": "code",
      "metadata": {
        "id": "3pqU4v2PGIMF"
      },
      "source": [
        "training_set = ImageDataGenerator(rescale=1./255)\n",
        "test_set = ImageDataGenerator(rescale=1./255)"
      ],
      "execution_count": 4,
      "outputs": []
    },
    {
      "cell_type": "code",
      "metadata": {
        "id": "w4QVRsIwGKlG",
        "colab": {
          "base_uri": "https://localhost:8080/"
        },
        "outputId": "12827017-92c2-4172-f327-9a2f0d9e2359"
      },
      "source": [
        "! pip install split-folders"
      ],
      "execution_count": 5,
      "outputs": [
        {
          "output_type": "stream",
          "text": [
            "Collecting split-folders\n",
            "  Downloading https://files.pythonhosted.org/packages/b8/5f/3c2b2f7ea5e047c8cdc3bb00ae582c5438fcdbbedcc23b3cc1c2c7aae642/split_folders-0.4.3-py3-none-any.whl\n",
            "Installing collected packages: split-folders\n",
            "Successfully installed split-folders-0.4.3\n"
          ],
          "name": "stdout"
        }
      ]
    },
    {
      "cell_type": "code",
      "metadata": {
        "colab": {
          "base_uri": "https://localhost:8080/"
        },
        "id": "JtpNGMC6GR3m",
        "outputId": "3e97814e-7a06-42c4-f7cc-9c729c0eafed"
      },
      "source": [
        "import splitfolders\n",
        "splitfolders.ratio('img_data', output=\"out\", seed=1337, ratio=(.9, .1))"
      ],
      "execution_count": 6,
      "outputs": [
        {
          "output_type": "stream",
          "text": [
            "Copying files: 505 files [00:00, 9225.56 files/s]\n"
          ],
          "name": "stderr"
        }
      ]
    },
    {
      "cell_type": "code",
      "metadata": {
        "id": "5JyTzI5aGUw9",
        "colab": {
          "base_uri": "https://localhost:8080/"
        },
        "outputId": "8bc32c88-8c06-4d74-f9be-c55a3c273c32"
      },
      "source": [
        "training_data = training_set.flow_from_directory(\n",
        "        '/content/out/train',\n",
        "        batch_size=1,\n",
        "        target_size=(128, 128))\n",
        "\n",
        "val_data = test_set.flow_from_directory(\n",
        "        '/content/out/val',\n",
        "        batch_size=1,\n",
        "        target_size=(128, 128))"
      ],
      "execution_count": 7,
      "outputs": [
        {
          "output_type": "stream",
          "text": [
            "Found 453 images belonging to 5 classes.\n",
            "Found 52 images belonging to 5 classes.\n"
          ],
          "name": "stdout"
        }
      ]
    }
  ]
}