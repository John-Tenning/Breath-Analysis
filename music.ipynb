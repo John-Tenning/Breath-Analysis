{
  "nbformat": 4,
  "nbformat_minor": 0,
  "metadata": {
    "colab": {
      "name": "Untitled0.ipynb",
      "provenance": []
    },
    "kernelspec": {
      "name": "python3",
      "display_name": "Python 3"
    },
    "language_info": {
      "name": "python"
    },
    "accelerator": "GPU"
  },
  "cells": [
    {
      "cell_type": "code",
      "metadata": {
        "id": "h01iJ2cDuH_w"
      },
      "source": [
        "import os\n",
        "import librosa, librosa.display\n",
        "import matplotlib.pyplot as plt\n",
        "import math"
      ],
      "execution_count": null,
      "outputs": []
    },
    {
      "cell_type": "code",
      "metadata": {
        "id": "MswplmCGue5G"
      },
      "source": [
        "for root, folders, files in os.walk('/content/drive/MyDrive/Python Project/sound'):\n",
        "    for folder in folders:\n",
        "        os.makedirs(f'/content/drive/MyDrive/{folder}',0o666)\n",
        "        print(f'Processing {folder}')\n",
        "        for _root, _folders, _files in os.walk(f'/content/drive/MyDrive/Python Project/sound/{folder}'):\n",
        "            for file in _files:\n",
        "                signal, sr = librosa.load(f'/content/drive/MyDrive/Python Project/sound/{folder}/{file}', sr=22050)\n",
        "                size = signal.shape[0]\n",
        "                start = 0\n",
        "                end = start + math.floor(size/5)\n",
        "                for i in range(5):\n",
        "                    part_of_signal = signal[start:end]\n",
        "                    mfcc = librosa.feature.mfcc(part_of_signal,\n",
        "                                n_fft=2048,\n",
        "                                hop_length=512,\n",
        "                                n_mfcc=13)\n",
        "                    librosa.display.specshow(mfcc, sr=sr, hop_length=512)\n",
        "                    plt.savefig(f'/content/drive/MyDrive/{folder}/{file[:-4] +\"_\"+ str(i)}.png')\n",
        "                    plt.clf()\n",
        "                    start = end\n",
        "                    end = start + math.floor(size/5)"
      ],
      "execution_count": null,
      "outputs": []
    }
  ]
}